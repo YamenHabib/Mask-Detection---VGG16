{
  "nbformat": 4,
  "nbformat_minor": 0,
  "metadata": {
    "colab": {
      "name": "Train Model.ipynb",
      "provenance": [],
      "collapsed_sections": [],
      "toc_visible": true
    },
    "kernelspec": {
      "name": "python3",
      "display_name": "Python 3"
    },
    "accelerator": "GPU"
  },
  "cells": [
    {
      "cell_type": "code",
      "metadata": {
        "id": "9frxm7NKnSFA",
        "colab_type": "code",
        "colab": {
          "base_uri": "https://localhost:8080/",
          "height": 34
        },
        "outputId": "346d3358-d049-472a-8a35-4b300c0d8648"
      },
      "source": [
        "from google.colab import drive\n",
        "drive.mount('/content/drive')"
      ],
      "execution_count": 2,
      "outputs": [
        {
          "output_type": "stream",
          "text": [
            "Drive already mounted at /content/drive; to attempt to forcibly remount, call drive.mount(\"/content/drive\", force_remount=True).\n"
          ],
          "name": "stdout"
        }
      ]
    },
    {
      "cell_type": "code",
      "metadata": {
        "id": "HCldNP2vlzLR",
        "colab_type": "code",
        "colab": {}
      },
      "source": [
        "from tensorflow.keras.applications import VGG16\n",
        "from tensorflow.keras.layers import AveragePooling2D, Dropout, Flatten\n",
        "from tensorflow.keras.layers import Dense, Input\n",
        "from tensorflow.keras.models import Model\n",
        "from tensorflow.keras.optimizers import Adam\n",
        "from tensorflow.keras.applications.mobilenet_v2 import preprocess_input\n",
        "from tensorflow.keras.preprocessing.image import load_img, img_to_array, ImageDataGenerator\n",
        "\n",
        "from tensorflow.keras.utils import to_categorical\n",
        "from sklearn.preprocessing import LabelBinarizer\n",
        "\n",
        "from sklearn.model_selection import train_test_split\n",
        "from sklearn.metrics import classification_report\n",
        "\n",
        "import matplotlib.pyplot as plt\n",
        "import numpy as np\n",
        "import argparse\n",
        "import os"
      ],
      "execution_count": 3,
      "outputs": []
    },
    {
      "cell_type": "markdown",
      "metadata": {
        "id": "9SsvVzMSURRP",
        "colab_type": "text"
      },
      "source": [
        "###make two list: one holds names of images of people wearing masks and one of people without masks."
      ]
    },
    {
      "cell_type": "code",
      "metadata": {
        "id": "xIlbuaj1ovhB",
        "colab_type": "code",
        "colab": {}
      },
      "source": [
        "DIR_with_mask = \"/content/drive/My Drive/dataset/with_mask\"\n",
        "DIR_without_mask = \"/content/drive/My Drive/dataset/without_mask\"\n",
        "\n",
        "imgs_file_name_with_mask = [os.path.join(DIR_with_mask, file)  for file in os.listdir(DIR_with_mask) if not  file.endswith(\".DS_Store\")]\n",
        "number_with_max = len(imgs_file_name_with_mask)\n",
        "\n",
        "imgs_file_name_without_mask = [os.path.join(DIR_without_mask, file)  for file in os.listdir(DIR_without_mask) if not file.endswith(\".DS_Store\")]\n",
        "number_without_mask = len(imgs_file_name_without_mask)"
      ],
      "execution_count": 4,
      "outputs": []
    },
    {
      "cell_type": "markdown",
      "metadata": {
        "id": "9DdgLcmcVeKi",
        "colab_type": "text"
      },
      "source": [
        "###load the images and save them in variable data, and save the corresponding labels."
      ]
    },
    {
      "cell_type": "code",
      "metadata": {
        "id": "e6eEL48-l5oi",
        "colab_type": "code",
        "colab": {
          "base_uri": "https://localhost:8080/",
          "height": 125
        },
        "outputId": "f1f9a1d7-c835-4b25-eaa4-485a6ed5c78c"
      },
      "source": [
        "from PIL import Image\n",
        "import glob\n",
        "\n",
        "CHANNELS = 3\n",
        "IMAGE_SIZE = 224\n",
        "DATA_SIZE = number_with_max + number_without_mask\n",
        "data = np.zeros((DATA_SIZE ,IMAGE_SIZE, IMAGE_SIZE, CHANNELS))\n",
        "labels = []\n",
        "j = -1 \n",
        "\n",
        "print(\"loading with mask data ...\")\n",
        "for filename in imgs_file_name_with_mask:\n",
        "    j = j + 1\n",
        "    #load the image\n",
        "    image = load_img(filename, target_size=(224, 224))\n",
        "    image = img_to_array(image)\n",
        "    image = preprocess_input(image)\n",
        "    \n",
        "    # add the loaded image and the corresponding label\n",
        "    data[j,:,:,:] =image\n",
        "    labels.append(1)\n",
        "\n",
        "print(\"loading without mask data ...\")\n",
        "for filename in imgs_file_name_without_mask: \n",
        "    j = j + 1\n",
        "    #load the image\n",
        "    image = load_img(filename, target_size=(224, 224))\n",
        "    image = img_to_array(image)\n",
        "    image = preprocess_input(image)\n",
        "\n",
        "    # add the loaded image and the corresponding label\n",
        "    data[j,:,:,:] =image\n",
        "    labels.append(0)\n",
        "\n",
        "print(\"done\")"
      ],
      "execution_count": 4,
      "outputs": [
        {
          "output_type": "stream",
          "text": [
            "loading with mask data ...\n"
          ],
          "name": "stdout"
        },
        {
          "output_type": "stream",
          "text": [
            "/usr/local/lib/python3.6/dist-packages/PIL/Image.py:932: UserWarning: Palette images with Transparency expressed in bytes should be converted to RGBA images\n",
            "  \"Palette images with Transparency expressed in bytes should be \"\n"
          ],
          "name": "stderr"
        },
        {
          "output_type": "stream",
          "text": [
            "loading without mask data ...\n",
            "done\n"
          ],
          "name": "stdout"
        }
      ]
    },
    {
      "cell_type": "code",
      "metadata": {
        "id": "qohawxf-mYvf",
        "colab_type": "code",
        "colab": {}
      },
      "source": [
        "# convert labels from [1,1,1,0,0,0,1,1,...] to [[1,0],[1,0],[1,0],[0,1],[0,1]]\n",
        "lb = LabelBinarizer()\n",
        "labels = lb.fit_transform(labels)\n",
        "labels = to_categorical(labels)\n"
      ],
      "execution_count": null,
      "outputs": []
    },
    {
      "cell_type": "code",
      "metadata": {
        "id": "9xV5LdH9zOQk",
        "colab_type": "code",
        "colab": {}
      },
      "source": [
        "# splite the data to training and testing sets\n",
        "(trainX, testX, trainY, testY) = train_test_split(data, labels, \n",
        "                                                  test_size=0.20, stratify=labels, random_state=42)\n",
        "\n",
        "data = []"
      ],
      "execution_count": 6,
      "outputs": []
    },
    {
      "cell_type": "code",
      "metadata": {
        "id": "oUmLDSZh1uob",
        "colab_type": "code",
        "colab": {}
      },
      "source": [
        "# applay an augmentation for images\n",
        "aug = ImageDataGenerator(\n",
        "    rotation_range=20,\n",
        "    zoom_range=0.15,\n",
        "    width_shift_range=0.2,\n",
        "    height_shift_range=0.2,\n",
        "    shear_range=0.15,\n",
        "    horizontal_flip=True,\n",
        "    fill_mode=\"nearest\")"
      ],
      "execution_count": 7,
      "outputs": []
    },
    {
      "cell_type": "code",
      "metadata": {
        "id": "y6jLnMKx1v_Q",
        "colab_type": "code",
        "colab": {
          "base_uri": "https://localhost:8080/",
          "height": 52
        },
        "outputId": "f7a55001-dbc3-47c0-944b-4397f0c9aa11"
      },
      "source": [
        "# we want to load vgg16 model without it's final layers, add a pooling and a dense layer and the output layer and finetune it.\n",
        "vgg16 = VGG16(weights=\"imagenet\", include_top=False, input_tensor=Input(shape=(224, 224, 3)))\n",
        "\n",
        "x = vgg16.output\n",
        "x = AveragePooling2D(pool_size=(7, 7))(x)\n",
        "x = Flatten(name=\"flatten\")(x)\n",
        "x = Dense(128, activation=\"relu\")(x)\n",
        "x = Dropout(0.5)(x)\n",
        "x = Dense(labels.shape[1], activation=\"softmax\")(x)\n",
        "\n",
        "model = Model(inputs=vgg16.input, outputs=x)\n",
        "# we don't want to retrain layers of vgg16\n",
        "for layer in vgg16.layers:\n",
        "    layer.trainable = False"
      ],
      "execution_count": 8,
      "outputs": [
        {
          "output_type": "stream",
          "text": [
            "Downloading data from https://storage.googleapis.com/tensorflow/keras-applications/vgg16/vgg16_weights_tf_dim_ordering_tf_kernels_notop.h5\n",
            "58892288/58889256 [==============================] - 0s 0us/step\n"
          ],
          "name": "stdout"
        }
      ]
    },
    {
      "cell_type": "code",
      "metadata": {
        "id": "BwXzIdpChqP9",
        "colab_type": "code",
        "colab": {
          "base_uri": "https://localhost:8080/",
          "height": 52
        },
        "outputId": "2b8d88e6-46e7-4a81-b0d6-49ebe385cacc"
      },
      "source": [
        "print(testX.shape)\n",
        "print(trainX.shape)"
      ],
      "execution_count": 9,
      "outputs": [
        {
          "output_type": "stream",
          "text": [
            "(767, 224, 224, 3)\n",
            "(3066, 224, 224, 3)\n"
          ],
          "name": "stdout"
        }
      ]
    },
    {
      "cell_type": "code",
      "metadata": {
        "id": "exxNqJJr1xSr",
        "colab_type": "code",
        "colab": {
          "base_uri": "https://localhost:8080/",
          "height": 727
        },
        "outputId": "e6176ec1-6554-45ea-bb90-1f3f7c9951b7"
      },
      "source": [
        "LEARNING_RATE = 1e-4\n",
        "EPOCHS = 20\n",
        "BATCH_SIZE = 64\n",
        "\n",
        "# out optimizers is adam with initial value = 1e-4 and with decay 0.8 \n",
        "opt = Adam(lr=LEARNING_RATE, decay=LEARNING_RATE * 0.8)\n",
        "model.compile(loss=\"binary_crossentropy\", optimizer=opt, metrics=[\"accuracy\"])\n",
        "\n",
        "# train the model.\n",
        "training = model.fit(aug.flow(trainX, trainY, batch_size=BATCH_SIZE), \n",
        "              steps_per_epoch=len(trainX) // BATCH_SIZE, \n",
        "              validation_data=(testX, testY), \n",
        "              validation_steps=len(testX) // BATCH_SIZE, \n",
        "              epochs=EPOCHS)"
      ],
      "execution_count": 10,
      "outputs": [
        {
          "output_type": "stream",
          "text": [
            "Epoch 1/20\n",
            "47/47 [==============================] - 41s 867ms/step - loss: 0.6845 - accuracy: 0.5896 - val_loss: 0.5073 - val_accuracy: 0.9218\n",
            "Epoch 2/20\n",
            "47/47 [==============================] - 35s 748ms/step - loss: 0.5563 - accuracy: 0.7258 - val_loss: 0.4118 - val_accuracy: 0.9531\n",
            "Epoch 3/20\n",
            "47/47 [==============================] - 35s 747ms/step - loss: 0.4601 - accuracy: 0.8165 - val_loss: 0.3385 - val_accuracy: 0.9544\n",
            "Epoch 4/20\n",
            "47/47 [==============================] - 35s 750ms/step - loss: 0.4014 - accuracy: 0.8698 - val_loss: 0.2918 - val_accuracy: 0.9570\n",
            "Epoch 5/20\n",
            "47/47 [==============================] - 35s 736ms/step - loss: 0.3504 - accuracy: 0.8974 - val_loss: 0.2509 - val_accuracy: 0.9622\n",
            "Epoch 6/20\n",
            "47/47 [==============================] - 35s 741ms/step - loss: 0.3173 - accuracy: 0.9041 - val_loss: 0.2228 - val_accuracy: 0.9635\n",
            "Epoch 7/20\n",
            "47/47 [==============================] - 35s 739ms/step - loss: 0.2781 - accuracy: 0.9207 - val_loss: 0.2001 - val_accuracy: 0.9622\n",
            "Epoch 8/20\n",
            "47/47 [==============================] - 35s 742ms/step - loss: 0.2628 - accuracy: 0.9257 - val_loss: 0.1816 - val_accuracy: 0.9635\n",
            "Epoch 9/20\n",
            "47/47 [==============================] - 35s 740ms/step - loss: 0.2392 - accuracy: 0.9360 - val_loss: 0.1647 - val_accuracy: 0.9674\n",
            "Epoch 10/20\n",
            "47/47 [==============================] - 35s 742ms/step - loss: 0.2248 - accuracy: 0.9370 - val_loss: 0.1519 - val_accuracy: 0.9661\n",
            "Epoch 11/20\n",
            "47/47 [==============================] - 35s 747ms/step - loss: 0.2078 - accuracy: 0.9417 - val_loss: 0.1422 - val_accuracy: 0.9661\n",
            "Epoch 12/20\n",
            "47/47 [==============================] - 35s 745ms/step - loss: 0.2033 - accuracy: 0.9407 - val_loss: 0.1382 - val_accuracy: 0.9674\n",
            "Epoch 13/20\n",
            "47/47 [==============================] - 35s 747ms/step - loss: 0.1899 - accuracy: 0.9487 - val_loss: 0.1276 - val_accuracy: 0.9713\n",
            "Epoch 14/20\n",
            "47/47 [==============================] - 35s 745ms/step - loss: 0.1818 - accuracy: 0.9500 - val_loss: 0.1193 - val_accuracy: 0.9726\n",
            "Epoch 15/20\n",
            "47/47 [==============================] - 35s 755ms/step - loss: 0.1761 - accuracy: 0.9494 - val_loss: 0.1166 - val_accuracy: 0.9713\n",
            "Epoch 16/20\n",
            "47/47 [==============================] - 35s 746ms/step - loss: 0.1577 - accuracy: 0.9570 - val_loss: 0.1096 - val_accuracy: 0.9726\n",
            "Epoch 17/20\n",
            "47/47 [==============================] - 35s 748ms/step - loss: 0.1592 - accuracy: 0.9550 - val_loss: 0.1039 - val_accuracy: 0.9726\n",
            "Epoch 18/20\n",
            "47/47 [==============================] - 35s 748ms/step - loss: 0.1486 - accuracy: 0.9577 - val_loss: 0.1016 - val_accuracy: 0.9726\n",
            "Epoch 19/20\n",
            "47/47 [==============================] - 35s 746ms/step - loss: 0.1491 - accuracy: 0.9517 - val_loss: 0.0998 - val_accuracy: 0.9713\n",
            "Epoch 20/20\n",
            "47/47 [==============================] - 35s 747ms/step - loss: 0.1450 - accuracy: 0.9567 - val_loss: 0.0943 - val_accuracy: 0.9726\n"
          ],
          "name": "stdout"
        }
      ]
    },
    {
      "cell_type": "markdown",
      "metadata": {
        "id": "78CAyKL8LBYe",
        "colab_type": "text"
      },
      "source": [
        ""
      ]
    },
    {
      "cell_type": "code",
      "metadata": {
        "id": "3SEptik313dc",
        "colab_type": "code",
        "colab": {
          "base_uri": "https://localhost:8080/",
          "height": 342
        },
        "outputId": "21b21098-a419-48fe-acff-ffc98839cda1"
      },
      "source": [
        "plt.style.use(\"fivethirtyeight\")\n",
        "plt.figure()\n",
        "plt.plot(np.arange(0, EPOCHS), training.history[\"loss\"], label=\"train_loss\")\n",
        "plt.plot(np.arange(0, EPOCHS), training.history[\"val_loss\"], label=\"val_loss\")\n",
        "plt.plot(np.arange(0, EPOCHS), training.history[\"accuracy\"], label=\"train_acc\")\n",
        "plt.plot(np.arange(0, EPOCHS), training.history[\"val_accuracy\"], label=\"val_acc\")\n",
        "\n",
        "plt.title(\"Training Loss and Accuracy\")\n",
        "plt.xlabel(\"Epoch #\")\n",
        "plt.ylabel(\"Loss-Accuracy\")\n",
        "plt.legend(loc=\"right\")"
      ],
      "execution_count": 11,
      "outputs": [
        {
          "output_type": "execute_result",
          "data": {
            "text/plain": [
              "<matplotlib.legend.Legend at 0x7fab086cd9e8>"
            ]
          },
          "metadata": {
            "tags": []
          },
          "execution_count": 11
        },
        {
          "output_type": "display_data",
          "data": {
            "image/png": "[encoded data removed]",
            "text/plain": [
              "<Figure size 432x288 with 1 Axes>"
            ]
          },
          "metadata": {
            "tags": []
          }
        }
      ]
    },
    {
      "cell_type": "code",
      "metadata": {
        "id": "cewldoKc2dQF",
        "colab_type": "code",
        "colab": {
          "base_uri": "https://localhost:8080/",
          "height": 176
        },
        "outputId": "2955db18-6188-493d-d19c-29fbfbd12022"
      },
      "source": [
        "pred = model.predict(testX, batch_size=BATCH_SIZE)\n",
        "predected_classes = np.argmax(pred, axis=1)\n",
        "actual_classes = testY.argmax(axis=1)\n",
        "print(classification_report(actual_classes, predected_classes))\n"
      ],
      "execution_count": 12,
      "outputs": [
        {
          "output_type": "stream",
          "text": [
            "              precision    recall  f1-score   support\n",
            "\n",
            "           0       0.96      0.98      0.97       384\n",
            "           1       0.98      0.96      0.97       383\n",
            "\n",
            "    accuracy                           0.97       767\n",
            "   macro avg       0.97      0.97      0.97       767\n",
            "weighted avg       0.97      0.97      0.97       767\n",
            "\n"
          ],
          "name": "stdout"
        }
      ]
    },
    {
      "cell_type": "code",
      "metadata": {
        "id": "iYJQF0P845AL",
        "colab_type": "code",
        "colab": {}
      },
      "source": [
        "# serialize the model to disk\n",
        "model_file_name = \"/content/drive/My Drive/Mask_Detector_model.model\"\n",
        "model.save(model_file_name, save_format=\"h5\")"
      ],
      "execution_count": 13,
      "outputs": []
    },
    {
      "cell_type": "code",
      "metadata": {
        "id": "yuYN4oNJ4avi",
        "colab_type": "code",
        "colab": {}
      },
      "source": [
        ""
      ],
      "execution_count": null,
      "outputs": []
    }
  ]
}